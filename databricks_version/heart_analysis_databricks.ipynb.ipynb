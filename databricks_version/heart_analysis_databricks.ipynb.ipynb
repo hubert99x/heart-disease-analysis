{
 "cells": [
  {
   "cell_type": "markdown",
   "metadata": {
    "application/vnd.databricks.v1+cell": {
     "cellMetadata": {
      "byteLimit": 2048000,
      "rowLimit": 10000
     },
     "inputWidgets": {},
     "nuid": "2c0c6773-f033-42c7-9f5e-0a745495da36",
     "showTitle": false,
     "tableResultSettingsMap": {},
     "title": ""
    }
   },
   "source": [
    "# Czynniki ryzyka chorób sercowo-naczyniowych:\n",
    "# analiza danych demograficznych i zdrowotnych"
   ]
  },
  {
   "cell_type": "markdown",
   "metadata": {
    "application/vnd.databricks.v1+cell": {
     "cellMetadata": {
      "byteLimit": 2048000,
      "rowLimit": 10000
     },
     "inputWidgets": {},
     "nuid": "b864578c-f491-48e7-bba6-5443c008b8c3",
     "showTitle": false,
     "tableResultSettingsMap": {},
     "title": ""
    }
   },
   "source": []
  },
  {
   "cell_type": "markdown",
   "metadata": {
    "application/vnd.databricks.v1+cell": {
     "cellMetadata": {
      "byteLimit": 2048000,
      "rowLimit": 10000
     },
     "inputWidgets": {},
     "nuid": "05d629fd-f995-4a0e-8c88-317a40932ee7",
     "showTitle": false,
     "tableResultSettingsMap": {},
     "title": ""
    }
   },
   "source": [
    "### Wstęp:\n",
    "#### Choroba serca jest złożonym procesem, na który wpływ ma wiele czynników zdrowotnych oraz demograficznych. Podczas analizy poniższego zbioru danych skupię się na kluczowych determinantach ryzyka oraz relacji między nimi. Może to pomóc lepiej zrozumieć, jak poszczególne czynniki mogą mieć znaczenie dla zdrowia serca i jakie wnioski można wyciągnąć, aby promować zdrowszy styl życia."
   ]
  },
  {
   "cell_type": "markdown",
   "metadata": {
    "application/vnd.databricks.v1+cell": {
     "cellMetadata": {
      "byteLimit": 2048000,
      "rowLimit": 10000
     },
     "inputWidgets": {},
     "nuid": "22a73b2d-a919-432f-ba14-23083567361e",
     "showTitle": false,
     "tableResultSettingsMap": {},
     "title": ""
    }
   },
   "source": [
    "### Cel analizy:\n",
    "#### Badanie czynników ryzyka chorób serca w kontekście demografii i nawyków zdrowotnych\n"
   ]
  },
  {
   "cell_type": "markdown",
   "metadata": {
    "application/vnd.databricks.v1+cell": {
     "cellMetadata": {
      "byteLimit": 2048000,
      "rowLimit": 10000
     },
     "inputWidgets": {},
     "nuid": "3b962e14-5935-468d-9829-750a62ba4503",
     "showTitle": false,
     "tableResultSettingsMap": {},
     "title": ""
    }
   },
   "source": [
    "### Źródło danych: \n",
    "#### [https://www.kaggle.com/datasets/kamilpytlak/personal-key-indicators-of-heart-disease](url)"
   ]
  },
  {
   "cell_type": "markdown",
   "metadata": {
    "application/vnd.databricks.v1+cell": {
     "cellMetadata": {
      "byteLimit": 2048000,
      "rowLimit": 10000
     },
     "inputWidgets": {},
     "nuid": "ace80170-6964-4459-8136-136afe39eb5b",
     "showTitle": false,
     "tableResultSettingsMap": {},
     "title": ""
    }
   },
   "source": [
    "### Opis danych:\n",
    "\n",
    "#### Dane pochodzą z amerykańskiego systemu Behavioral Risk Factor Surveillance System (BRFSS), który jest największym globalnym programem ankiet telefonicznych badających stan zdrowia populacji. Zostały one zebrane i udostępnione przez Centers for Disease Control and Prevention (CDC) jako część corocznego monitorowania zdrowia mieszkańców Stanów Zjednoczonych. Analizowany zbiór danych obejmuje rok 2020.\n",
    "#### Analizowany zbiór danych zawiera zmienne dotyczące stylu życia, nawyków zdrowotnych i cech demograficznych, które pozwalają na zbadanie ryzyka chorób serca"
   ]
  },
  {
   "cell_type": "markdown",
   "metadata": {
    "application/vnd.databricks.v1+cell": {
     "cellMetadata": {
      "byteLimit": 2048000,
      "rowLimit": 10000
     },
     "inputWidgets": {},
     "nuid": "0e6cefe0-0189-4817-8163-8c8e79130a8f",
     "showTitle": false,
     "tableResultSettingsMap": {},
     "title": ""
    }
   },
   "source": [
    "#### Opis wszystkich kolumn ze zbioru danych (pogrubione - wartości użyte w analizie):\n",
    "\n",
    "- **HeartDisease - Czy u badanej osoby zdiagnozowano chorobę serca? (Yes / No)**\n",
    "- **BMI\t- Wskaźnik masy ciała (Body Mass Index)**\n",
    "- **Smoking\t- Czy badana osoba jest osobą palącą? (Yes / No)**\n",
    "- AlcoholDrinking\t- Czy u badanej osoby występuje nadmierne spożycie alkoholu? (Yes / No) (mężczyźni > 5 drinków miesięcznie, kobiety 4)\n",
    "- Stroke - Czy u badanej osoby wystąpił udar? (Yes / No)\n",
    "- PhysicalHealth\t- Liczba dni w ciągu ostatniego miesiąca, w których występowały problemy zdrowotne fizyczne (np. ból, choroba).\n",
    "- MentalHealth\t- Liczba dni w ciągu ostatniego miesiąca, w których występowały problemy zdrowotne psychiczne (np. depresja, stres, lęki).\n",
    "- DiffWalking\t- Czy u badanej osoby występują trudności z chodzeniem lub poruszaniem się? (Yes / No)\n",
    "- **Sex\t- Płeć badanej osoby (Male / Female).**\n",
    "- **AgeCategory\t- Kategoria wiekowa (np. 18-24, 25-29, ..., 80 or older).**\n",
    "- Race\t- Rasa lub grupa etniczna (White, Black, Asian, American Indian/Alaskan Native, Hispanic, Other).\n",
    "- Diabetic\t- Czy u badanej osoby zdiagnozowano cukrzycę? (Yes / No)\n",
    "- PhysicalActivity\t- Czy u badanej osoby występuje regularna aktywność fizyczna? (Yes / No)\n",
    "- GenHealth\t- Samoocena ogólnego stanu zdrowia (Excellent, Very good, Good, Fair, Poor).\n",
    "- SleepTime\t- Średnia liczba godzin snu na dobę.\n",
    "- Asthma\t- Czy u badanej osoby zdiagnozowano astmę? (Yes / No)\n",
    "- KidneyDisease\t- Czy u badanej osoby przewlekłą chorobę nerek? (Yes / No)\n",
    "- SkinCancer\t- Czy u badanej osoby zdiagnozowano raka skóry? (Yes / No)"
   ]
  },
  {
   "cell_type": "markdown",
   "metadata": {
    "application/vnd.databricks.v1+cell": {
     "cellMetadata": {
      "byteLimit": 2048000,
      "rowLimit": 10000
     },
     "inputWidgets": {},
     "nuid": "28909502-1b92-46a9-bfc3-6739cf9c3db8",
     "showTitle": false,
     "tableResultSettingsMap": {},
     "title": ""
    }
   },
   "source": [
    "### Pobranie i załadowanie danych"
   ]
  },
  {
   "cell_type": "code",
   "execution_count": 12,
   "metadata": {
    "application/vnd.databricks.v1+cell": {
     "cellMetadata": {
      "byteLimit": 2048000,
      "rowLimit": 10000
     },
     "inputWidgets": {},
     "nuid": "1c9d38d0-e240-4cbe-97da-db0ce806707e",
     "showTitle": false,
     "tableResultSettingsMap": {},
     "title": ""
    }
   },
   "outputs": [
    {
     "name": "stdout",
     "output_type": "stream",
     "text": [
      "Requirement already satisfied: kagglehub==0.3.6 in c:\\users\\hubert\\anaconda3\\lib\\site-packages (0.3.6)\n",
      "Requirement already satisfied: packaging in c:\\users\\hubert\\anaconda3\\lib\\site-packages (from kagglehub==0.3.6) (24.1)\n",
      "Requirement already satisfied: requests in c:\\users\\hubert\\anaconda3\\lib\\site-packages (from kagglehub==0.3.6) (2.32.3)\n",
      "Requirement already satisfied: tqdm in c:\\users\\hubert\\anaconda3\\lib\\site-packages (from kagglehub==0.3.6) (4.66.5)\n",
      "Requirement already satisfied: charset-normalizer<4,>=2 in c:\\users\\hubert\\anaconda3\\lib\\site-packages (from requests->kagglehub==0.3.6) (3.3.2)\n",
      "Requirement already satisfied: idna<4,>=2.5 in c:\\users\\hubert\\anaconda3\\lib\\site-packages (from requests->kagglehub==0.3.6) (3.7)\n",
      "Requirement already satisfied: urllib3<3,>=1.21.1 in c:\\users\\hubert\\anaconda3\\lib\\site-packages (from requests->kagglehub==0.3.6) (2.2.3)\n",
      "Requirement already satisfied: certifi>=2017.4.17 in c:\\users\\hubert\\anaconda3\\lib\\site-packages (from requests->kagglehub==0.3.6) (2024.12.14)\n",
      "Requirement already satisfied: colorama in c:\\users\\hubert\\anaconda3\\lib\\site-packages (from tqdm->kagglehub==0.3.6) (0.4.6)\n",
      "Note: you may need to restart the kernel to use updated packages.\n"
     ]
    },
    {
     "ename": "NameError",
     "evalue": "name 'dbutils' is not defined",
     "output_type": "error",
     "traceback": [
      "\u001b[1;31m---------------------------------------------------------------------------\u001b[0m",
      "\u001b[1;31mNameError\u001b[0m                                 Traceback (most recent call last)",
      "Cell \u001b[1;32mIn[12], line 3\u001b[0m\n\u001b[0;32m      1\u001b[0m get_ipython()\u001b[38;5;241m.\u001b[39mrun_line_magic(\u001b[38;5;124m'\u001b[39m\u001b[38;5;124mpip\u001b[39m\u001b[38;5;124m'\u001b[39m, \u001b[38;5;124m'\u001b[39m\u001b[38;5;124minstall kagglehub==0.3.6\u001b[39m\u001b[38;5;124m'\u001b[39m)\n\u001b[1;32m----> 3\u001b[0m dbutils\u001b[38;5;241m.\u001b[39mlibrary\u001b[38;5;241m.\u001b[39mrestartPython()\n",
      "\u001b[1;31mNameError\u001b[0m: name 'dbutils' is not defined"
     ]
    }
   ],
   "source": [
    "%pip install kagglehub==0.3.6\n",
    "\n",
    "dbutils.library.restartPython()"
   ]
  },
  {
   "cell_type": "code",
   "execution_count": null,
   "metadata": {
    "application/vnd.databricks.v1+cell": {
     "cellMetadata": {
      "byteLimit": 2048000,
      "rowLimit": 10000
     },
     "inputWidgets": {},
     "nuid": "30c5aff3-6d61-4310-bade-6cfa268524bf",
     "showTitle": false,
     "tableResultSettingsMap": {},
     "title": ""
    }
   },
   "outputs": [],
   "source": [
    "from pyspark.sql.functions import *"
   ]
  },
  {
   "cell_type": "code",
   "execution_count": null,
   "metadata": {
    "application/vnd.databricks.v1+cell": {
     "cellMetadata": {
      "byteLimit": 2048000,
      "rowLimit": 10000
     },
     "inputWidgets": {},
     "nuid": "3778d29c-adf8-40bc-b379-08aa51b3919f",
     "showTitle": false,
     "tableResultSettingsMap": {},
     "title": ""
    }
   },
   "outputs": [],
   "source": [
    "import kagglehub\n",
    "import os\n",
    "\n",
    "\n",
    "path = kagglehub.dataset_download(\"kamilpytlak/personal-key-indicators-of-heart-disease\")\n",
    "\n",
    "csv_path_local = f\"{path}/2020/heart_2020_cleaned.csv\"\n",
    "\n",
    "\n",
    "if not os.path.exists(csv_path_local):\n",
    "    raise FileNotFoundError(f\"Plik CSV nie istnieje w lokalizacji: {csv_path_local}\")\n",
    "\n",
    "\n",
    "dbfs_csv_path = \"dbfs:/FileStore/tables/heart_2020_cleaned.csv\"\n",
    "dbutils.fs.cp(f\"file:{csv_path_local}\", dbfs_csv_path)\n",
    "print(f\"Plik został skopiowany do DBFS: {dbfs_csv_path}\")\n",
    "\n",
    "\n",
    "df = spark.read.csv(dbfs_csv_path, header=True, inferSchema=True)\n",
    "\n",
    "\n",
    "df.display(5)\n",
    "df.printSchema()\n"
   ]
  },
  {
   "cell_type": "markdown",
   "metadata": {
    "application/vnd.databricks.v1+cell": {
     "cellMetadata": {
      "byteLimit": 2048000,
      "rowLimit": 10000
     },
     "inputWidgets": {},
     "nuid": "2a00c8cb-9614-49bb-adb9-4387bbcd509f",
     "showTitle": false,
     "tableResultSettingsMap": {},
     "title": ""
    }
   },
   "source": [
    "### Wstępne czyszczenie danych"
   ]
  },
  {
   "cell_type": "markdown",
   "metadata": {
    "application/vnd.databricks.v1+cell": {
     "cellMetadata": {
      "byteLimit": 2048000,
      "rowLimit": 10000
     },
     "inputWidgets": {},
     "nuid": "ce916e97-ae3b-4902-920f-bf6b2d7c854d",
     "showTitle": false,
     "tableResultSettingsMap": {},
     "title": ""
    }
   },
   "source": [
    "#### 1) brak wartości NULL w zbiorze danych."
   ]
  },
  {
   "cell_type": "markdown",
   "metadata": {
    "application/vnd.databricks.v1+cell": {
     "cellMetadata": {
      "byteLimit": 2048000,
      "rowLimit": 10000
     },
     "inputWidgets": {},
     "nuid": "bef07234-3ee2-4cd9-b8b4-312617093cdb",
     "showTitle": false,
     "tableResultSettingsMap": {},
     "title": ""
    }
   },
   "source": [
    "#### 2) usunięcie nierealnej wartości SleepTime = 24h\n"
   ]
  },
  {
   "cell_type": "code",
   "execution_count": 16,
   "metadata": {
    "application/vnd.databricks.v1+cell": {
     "cellMetadata": {
      "byteLimit": 2048000,
      "rowLimit": 10000
     },
     "inputWidgets": {},
     "nuid": "4a9fddbf-8d96-447f-b2ec-d10cdcf8d5c9",
     "showTitle": false,
     "tableResultSettingsMap": {},
     "title": ""
    }
   },
   "outputs": [
    {
     "ename": "NameError",
     "evalue": "name 'df' is not defined",
     "output_type": "error",
     "traceback": [
      "\u001b[1;31m---------------------------------------------------------------------------\u001b[0m",
      "\u001b[1;31mNameError\u001b[0m                                 Traceback (most recent call last)",
      "Cell \u001b[1;32mIn[16], line 1\u001b[0m\n\u001b[1;32m----> 1\u001b[0m df \u001b[38;5;241m=\u001b[39m df\u001b[38;5;241m.\u001b[39mfilter(df[\u001b[38;5;124m\"\u001b[39m\u001b[38;5;124mSleepTime\u001b[39m\u001b[38;5;124m\"\u001b[39m] \u001b[38;5;241m!=\u001b[39m \u001b[38;5;241m24\u001b[39m)\n\u001b[0;32m      3\u001b[0m df\u001b[38;5;241m.\u001b[39mdisplay()\n",
      "\u001b[1;31mNameError\u001b[0m: name 'df' is not defined"
     ]
    }
   ],
   "source": [
    "df = df.filter(df[\"SleepTime\"] != 24)\n",
    "\n",
    "df.display()"
   ]
  },
  {
   "cell_type": "markdown",
   "metadata": {
    "application/vnd.databricks.v1+cell": {
     "cellMetadata": {
      "byteLimit": 2048000,
      "rowLimit": 10000
     },
     "inputWidgets": {},
     "nuid": "59e41c10-8fcf-4ff7-a165-98359f636f34",
     "showTitle": false,
     "tableResultSettingsMap": {},
     "title": ""
    }
   },
   "source": [
    "###  Zapisanie danych do Hive"
   ]
  },
  {
   "cell_type": "code",
   "execution_count": null,
   "metadata": {
    "application/vnd.databricks.v1+cell": {
     "cellMetadata": {
      "byteLimit": 2048000,
      "rowLimit": 10000
     },
     "inputWidgets": {},
     "nuid": "19ca3c1e-0a5e-46ba-9c54-59a308850714",
     "showTitle": false,
     "tableResultSettingsMap": {},
     "title": ""
    }
   },
   "outputs": [],
   "source": [
    "spark.sql(\"CREATE DATABASE IF NOT EXISTS heart_disease_db\")\n",
    "spark.sql(\"USE heart_disease_db\")\n",
    "\n",
    "\n",
    "df.write \\\n",
    "    .mode(\"overwrite\") \\\n",
    "    .option(\"overwriteSchema\", \"true\") \\\n",
    "    .saveAsTable(\"heart_disease_data\")\n"
   ]
  },
  {
   "cell_type": "code",
   "execution_count": null,
   "metadata": {
    "application/vnd.databricks.v1+cell": {
     "cellMetadata": {
      "byteLimit": 2048000,
      "implicitDf": true,
      "rowLimit": 10000
     },
     "inputWidgets": {},
     "nuid": "a9a4b46e-efcb-4dd1-bd34-c65ecff74ea9",
     "showTitle": false,
     "tableResultSettingsMap": {},
     "title": ""
    }
   },
   "outputs": [
    {
     "data": {
      "text/html": [
       "<style scoped>\n",
       "  .table-result-container {\n",
       "    max-height: 300px;\n",
       "    overflow: auto;\n",
       "  }\n",
       "  table, th, td {\n",
       "    border: 1px solid black;\n",
       "    border-collapse: collapse;\n",
       "  }\n",
       "  th, td {\n",
       "    padding: 5px;\n",
       "  }\n",
       "  th {\n",
       "    text-align: left;\n",
       "  }\n",
       "</style><div class='table-result-container'><table class='table-result'><thead style='background-color: white'><tr><th>col_name</th><th>data_type</th><th>comment</th></tr></thead><tbody><tr><td>HeartDisease</td><td>string</td><td>null</td></tr><tr><td>BMI</td><td>double</td><td>null</td></tr><tr><td>Smoking</td><td>string</td><td>null</td></tr><tr><td>AlcoholDrinking</td><td>string</td><td>null</td></tr><tr><td>Stroke</td><td>string</td><td>null</td></tr><tr><td>PhysicalHealth</td><td>double</td><td>null</td></tr><tr><td>MentalHealth</td><td>double</td><td>null</td></tr><tr><td>DiffWalking</td><td>string</td><td>null</td></tr><tr><td>Sex</td><td>string</td><td>null</td></tr><tr><td>AgeCategory</td><td>string</td><td>null</td></tr><tr><td>Race</td><td>string</td><td>null</td></tr><tr><td>Diabetic</td><td>string</td><td>null</td></tr><tr><td>PhysicalActivity</td><td>string</td><td>null</td></tr><tr><td>GenHealth</td><td>string</td><td>null</td></tr><tr><td>SleepTime</td><td>double</td><td>null</td></tr><tr><td>Asthma</td><td>string</td><td>null</td></tr><tr><td>KidneyDisease</td><td>string</td><td>null</td></tr><tr><td>SkinCancer</td><td>string</td><td>null</td></tr></tbody></table></div>"
      ]
     },
     "metadata": {
      "application/vnd.databricks.v1+output": {
       "addedWidgets": {},
       "aggData": [],
       "aggError": "",
       "aggOverflow": false,
       "aggSchema": [],
       "aggSeriesLimitReached": false,
       "aggType": "",
       "arguments": {},
       "columnCustomDisplayInfos": {},
       "data": [
        [
         "HeartDisease",
         "string",
         null
        ],
        [
         "BMI",
         "double",
         null
        ],
        [
         "Smoking",
         "string",
         null
        ],
        [
         "AlcoholDrinking",
         "string",
         null
        ],
        [
         "Stroke",
         "string",
         null
        ],
        [
         "PhysicalHealth",
         "double",
         null
        ],
        [
         "MentalHealth",
         "double",
         null
        ],
        [
         "DiffWalking",
         "string",
         null
        ],
        [
         "Sex",
         "string",
         null
        ],
        [
         "AgeCategory",
         "string",
         null
        ],
        [
         "Race",
         "string",
         null
        ],
        [
         "Diabetic",
         "string",
         null
        ],
        [
         "PhysicalActivity",
         "string",
         null
        ],
        [
         "GenHealth",
         "string",
         null
        ],
        [
         "SleepTime",
         "double",
         null
        ],
        [
         "Asthma",
         "string",
         null
        ],
        [
         "KidneyDisease",
         "string",
         null
        ],
        [
         "SkinCancer",
         "string",
         null
        ]
       ],
       "datasetInfos": [],
       "dbfsResultPath": null,
       "isJsonSchema": true,
       "metadata": {
        "createTempViewForImplicitDf": true,
        "dataframeName": "_sqldf",
        "executionCount": 5
       },
       "overflow": false,
       "plotOptions": {
        "customPlotOptions": {},
        "displayType": "table",
        "pivotAggregation": null,
        "pivotColumns": null,
        "xColumns": null,
        "yColumns": null
       },
       "removedWidgets": [],
       "schema": [
        {
         "metadata": "{\"comment\":\"name of the column\"}",
         "name": "col_name",
         "type": "\"string\""
        },
        {
         "metadata": "{\"comment\":\"data type of the column\"}",
         "name": "data_type",
         "type": "\"string\""
        },
        {
         "metadata": "{\"comment\":\"comment of the column\"}",
         "name": "comment",
         "type": "\"string\""
        }
       ],
       "type": "table"
      }
     },
     "output_type": "display_data"
    }
   ],
   "source": [
    "%sql\n",
    "DESCRIBE TABLE heart_disease_data;"
   ]
  },
  {
   "cell_type": "markdown",
   "metadata": {
    "application/vnd.databricks.v1+cell": {
     "cellMetadata": {
      "byteLimit": 2048000,
      "rowLimit": 10000
     },
     "inputWidgets": {},
     "nuid": "b9b90796-6f4a-4ba7-a871-f85468c62ba2",
     "showTitle": false,
     "tableResultSettingsMap": {},
     "title": ""
    }
   },
   "source": []
  },
  {
   "cell_type": "markdown",
   "metadata": {
    "application/vnd.databricks.v1+cell": {
     "cellMetadata": {
      "byteLimit": 2048000,
      "rowLimit": 10000
     },
     "inputWidgets": {},
     "nuid": "41ea2366-84de-4f35-a095-e68f46ba1b03",
     "showTitle": false,
     "tableResultSettingsMap": {},
     "title": ""
    }
   },
   "source": [
    "### Agregacje i wizualizacje"
   ]
  },
  {
   "cell_type": "markdown",
   "metadata": {
    "application/vnd.databricks.v1+cell": {
     "cellMetadata": {
      "byteLimit": 2048000,
      "rowLimit": 10000
     },
     "inputWidgets": {},
     "nuid": "9f4f0d6f-e2df-42e8-b4fe-bd69e17dda0e",
     "showTitle": false,
     "tableResultSettingsMap": {},
     "title": ""
    }
   },
   "source": [
    "#### 1) Wykres kołowy: Podział badanej populacji ze względu na płeć"
   ]
  },
  {
   "cell_type": "code",
   "execution_count": null,
   "metadata": {
    "application/vnd.databricks.v1+cell": {
     "cellMetadata": {
      "byteLimit": 2048000,
      "implicitDf": true,
      "rowLimit": 10000
     },
     "inputWidgets": {},
     "nuid": "69659c49-2e8a-4505-80cf-a4e291d4123b",
     "showTitle": false,
     "tableResultSettingsMap": {},
     "title": ""
    }
   },
   "outputs": [
    {
     "data": {
      "text/html": [
       "<style scoped>\n",
       "  .table-result-container {\n",
       "    max-height: 300px;\n",
       "    overflow: auto;\n",
       "  }\n",
       "  table, th, td {\n",
       "    border: 1px solid black;\n",
       "    border-collapse: collapse;\n",
       "  }\n",
       "  th, td {\n",
       "    padding: 5px;\n",
       "  }\n",
       "  th {\n",
       "    text-align: left;\n",
       "  }\n",
       "</style><div class='table-result-container'><table class='table-result'><thead style='background-color: white'><tr><th>Sex</th><th>Count</th><th>Percentage</th></tr></thead><tbody><tr><td>Female</td><td>167789</td><td>52.47</td></tr><tr><td>Male</td><td>151976</td><td>47.53</td></tr></tbody></table></div>"
      ]
     },
     "metadata": {
      "application/vnd.databricks.v1+output": {
       "addedWidgets": {},
       "aggData": [],
       "aggError": "",
       "aggOverflow": false,
       "aggSchema": [],
       "aggSeriesLimitReached": false,
       "aggType": "",
       "arguments": {},
       "columnCustomDisplayInfos": {},
       "data": [
        [
         "Female",
         167789,
         "52.47"
        ],
        [
         "Male",
         151976,
         "47.53"
        ]
       ],
       "datasetInfos": [],
       "dbfsResultPath": null,
       "isJsonSchema": true,
       "metadata": {
        "createTempViewForImplicitDf": true,
        "dataframeName": "_sqldf",
        "executionCount": 6
       },
       "overflow": false,
       "plotOptions": {
        "customPlotOptions": {},
        "displayType": "table",
        "pivotAggregation": null,
        "pivotColumns": null,
        "xColumns": null,
        "yColumns": null
       },
       "removedWidgets": [],
       "schema": [
        {
         "metadata": "{}",
         "name": "Sex",
         "type": "\"string\""
        },
        {
         "metadata": "{}",
         "name": "Count",
         "type": "\"long\""
        },
        {
         "metadata": "{}",
         "name": "Percentage",
         "type": "\"decimal(27,2)\""
        }
       ],
       "type": "table"
      }
     },
     "output_type": "display_data"
    },
    {
     "data": {
      "text/plain": [
       "Databricks visualization. Run in Databricks to view."
      ]
     },
     "metadata": {
      "application/vnd.databricks.v1.subcommand+json": {
       "baseErrorDetails": null,
       "bindings": {},
       "collapsed": false,
       "command": "%sql WITH q AS (SELECT \n    Sex,\n    COUNT(*) AS Count,\n    ROUND((COUNT(*) * 100.0) / SUM(COUNT(*)) OVER (), 2) AS Percentage\nFROM heart_disease_data\nGROUP BY Sex\nORDER BY Percentage DESC) SELECT `Sex`,SUM(`Percentage`) `column_a4e94a64101` FROM q GROUP BY `Sex`",
       "commandTitle": "Visualization 1",
       "commandType": "auto",
       "commandVersion": 0,
       "commentThread": [],
       "commentsVisible": false,
       "contentSha256Hex": null,
       "customPlotOptions": {
        "redashChart": [
         {
          "key": "type",
          "value": "CHART"
         },
         {
          "key": "options",
          "value": {
           "alignYAxesAtZero": true,
           "coefficient": 1,
           "columnConfigurationMap": {
            "x": {
             "column": "Sex",
             "id": "column_a4e94a64103"
            },
            "y": [
             {
              "column": "Percentage",
              "id": "column_a4e94a64101",
              "transform": "SUM"
             }
            ]
           },
           "dateTimeFormat": "DD/MM/YYYY HH:mm",
           "direction": {
            "type": "counterclockwise"
           },
           "error_y": {
            "type": "data",
            "visible": true
           },
           "globalSeriesType": "pie",
           "isAggregationOn": true,
           "legend": {
            "traceorder": "normal"
           },
           "missingValuesAsZero": true,
           "numberFormat": "0,0.[00000]",
           "percentFormat": "0[.]00%",
           "series": {
            "error_y": {
             "type": "data",
             "visible": true
            },
            "stacking": null
           },
           "seriesOptions": {
            "column_a4e94a64101": {
             "name": "Gender distribution in the entire population",
             "type": "pie",
             "yAxis": 0
            },
            "column_a4e94a64110": {
             "type": "pie",
             "yAxis": 0
            }
           },
           "showDataLabels": true,
           "sizemode": "diameter",
           "sortX": true,
           "sortY": true,
           "swappedAxes": false,
           "textFormat": "",
           "useAggregationsUi": true,
           "valuesOptions": {},
           "version": 2,
           "xAxis": {
            "labels": {
             "enabled": true
            },
            "type": "-"
           },
           "yAxis": [
            {
             "type": "-"
            },
            {
             "opposite": true,
             "type": "-"
            }
           ]
          }
         }
        ]
       },
       "datasetPreviewNameToCmdIdMap": {},
       "diffDeletes": [],
       "diffInserts": [],
       "displayType": "redashChart",
       "error": null,
       "errorDetails": null,
       "errorSummary": null,
       "errorTraceType": null,
       "finishTime": 0,
       "globalVars": {},
       "guid": "",
       "height": "auto",
       "hideCommandCode": false,
       "hideCommandResult": false,
       "iPythonMetadata": null,
       "inputWidgets": {},
       "isLockedInExamMode": false,
       "latestUser": "a user",
       "latestUserId": null,
       "listResultMetadata": null,
       "metadata": {
        "byteLimit": 2048000,
        "implicitDf": true,
        "rowLimit": 10000
       },
       "nuid": "4b3f7db5-69d0-42ca-a6e1-83d8c36cd3ad",
       "origId": 0,
       "parentHierarchy": [],
       "pivotAggregation": null,
       "pivotColumns": null,
       "position": 9.8125,
       "resultDbfsErrorMessage": null,
       "resultDbfsStatus": "INLINED_IN_TREE",
       "results": null,
       "showCommandTitle": false,
       "startTime": 0,
       "state": "finished",
       "streamStates": {},
       "subcommandOptions": {
        "queryPlan": {
         "groups": [
          {
           "column": "Sex",
           "type": "column"
          }
         ],
         "selects": [
          {
           "column": "Sex",
           "type": "column"
          },
          {
           "alias": "column_a4e94a64101",
           "args": [
            {
             "column": "Percentage",
             "type": "column"
            }
           ],
           "function": "SUM",
           "type": "function"
          }
         ]
        }
       },
       "submitTime": 0,
       "subtype": "tableResultSubCmd.visualization",
       "tableResultIndex": 0,
       "tableResultSettingsMap": {},
       "useConsistentColors": false,
       "version": "CommandV1",
       "width": "auto",
       "workflows": [],
       "xColumns": null,
       "yColumns": null
      }
     },
     "output_type": "display_data"
    }
   ],
   "source": [
    "%sql\n",
    "SELECT \n",
    "    Sex,\n",
    "    COUNT(*) AS Count,\n",
    "    ROUND((COUNT(*) * 100.0) / SUM(COUNT(*)) OVER (), 2) AS Percentage\n",
    "FROM heart_disease_data\n",
    "GROUP BY Sex\n",
    "ORDER BY Percentage DESC;"
   ]
  },
  {
   "cell_type": "markdown",
   "metadata": {
    "application/vnd.databricks.v1+cell": {
     "cellMetadata": {
      "byteLimit": 2048000,
      "rowLimit": 10000
     },
     "inputWidgets": {},
     "nuid": "87454c6b-7b5d-4346-baf4-91c84c6db175",
     "showTitle": false,
     "tableResultSettingsMap": {},
     "title": ""
    }
   },
   "source": [
    "##### Wnioski:\n",
    "- #####  Różnica między płciami wynosi tylko 5%, co oznacza, że próbka jest dobrze zbalansowana i reprezentatywna."
   ]
  },
  {
   "cell_type": "markdown",
   "metadata": {
    "application/vnd.databricks.v1+cell": {
     "cellMetadata": {
      "byteLimit": 2048000,
      "rowLimit": 10000
     },
     "inputWidgets": {},
     "nuid": "310de673-1a10-428b-bfda-aa55f45ef38e",
     "showTitle": false,
     "tableResultSettingsMap": {},
     "title": ""
    }
   },
   "source": []
  },
  {
   "cell_type": "markdown",
   "metadata": {
    "application/vnd.databricks.v1+cell": {
     "cellMetadata": {
      "byteLimit": 2048000,
      "rowLimit": 10000
     },
     "inputWidgets": {},
     "nuid": "0a056b70-6ceb-427c-a430-d7b637af1b67",
     "showTitle": false,
     "tableResultSettingsMap": {},
     "title": ""
    }
   },
   "source": [
    "#### 2) Wykres kołowy: Podział badanej populacji z chorobami serca ze względu na płeć"
   ]
  },
  {
   "cell_type": "code",
   "execution_count": null,
   "metadata": {
    "application/vnd.databricks.v1+cell": {
     "cellMetadata": {
      "byteLimit": 2048000,
      "implicitDf": true,
      "rowLimit": 10000
     },
     "inputWidgets": {},
     "nuid": "99002281-9a35-45b8-a712-380ca6b5bec3",
     "showTitle": false,
     "tableResultSettingsMap": {},
     "title": ""
    }
   },
   "outputs": [
    {
     "data": {
      "text/html": [
       "<style scoped>\n",
       "  .table-result-container {\n",
       "    max-height: 300px;\n",
       "    overflow: auto;\n",
       "  }\n",
       "  table, th, td {\n",
       "    border: 1px solid black;\n",
       "    border-collapse: collapse;\n",
       "  }\n",
       "  th, td {\n",
       "    padding: 5px;\n",
       "  }\n",
       "  th {\n",
       "    text-align: left;\n",
       "  }\n",
       "</style><div class='table-result-container'><table class='table-result'><thead style='background-color: white'><tr><th>Sex</th><th>Count</th><th>Percentage</th></tr></thead><tbody><tr><td>Male</td><td>16137</td><td>58.97</td></tr><tr><td>Female</td><td>11230</td><td>41.03</td></tr></tbody></table></div>"
      ]
     },
     "metadata": {
      "application/vnd.databricks.v1+output": {
       "addedWidgets": {},
       "aggData": [],
       "aggError": "",
       "aggOverflow": false,
       "aggSchema": [],
       "aggSeriesLimitReached": false,
       "aggType": "",
       "arguments": {},
       "columnCustomDisplayInfos": {},
       "data": [
        [
         "Male",
         16137,
         "58.97"
        ],
        [
         "Female",
         11230,
         "41.03"
        ]
       ],
       "datasetInfos": [],
       "dbfsResultPath": null,
       "isJsonSchema": true,
       "metadata": {
        "createTempViewForImplicitDf": true,
        "dataframeName": "_sqldf",
        "executionCount": 7
       },
       "overflow": false,
       "plotOptions": {
        "customPlotOptions": {},
        "displayType": "table",
        "pivotAggregation": null,
        "pivotColumns": null,
        "xColumns": null,
        "yColumns": null
       },
       "removedWidgets": [],
       "schema": [
        {
         "metadata": "{}",
         "name": "Sex",
         "type": "\"string\""
        },
        {
         "metadata": "{}",
         "name": "Count",
         "type": "\"long\""
        },
        {
         "metadata": "{}",
         "name": "Percentage",
         "type": "\"decimal(27,2)\""
        }
       ],
       "type": "table"
      }
     },
     "output_type": "display_data"
    },
    {
     "data": {
      "text/plain": [
       "Databricks visualization. Run in Databricks to view."
      ]
     },
     "metadata": {
      "application/vnd.databricks.v1.subcommand+json": {
       "baseErrorDetails": null,
       "bindings": {},
       "collapsed": false,
       "command": "%sql WITH q AS (SELECT \n    Sex,\n    COUNT(*) AS Count,\n    ROUND((COUNT(*) * 100.0) / SUM(COUNT(*)) OVER (), 2) AS Percentage\nFROM heart_disease_data\nWHERE HeartDisease = 'Yes'\nGROUP BY Sex\nORDER BY Percentage DESC) SELECT `Sex`,SUM(`Percentage`) `column_a4e94a64115` FROM q GROUP BY `Sex`",
       "commandTitle": "Visualization 1",
       "commandType": "auto",
       "commandVersion": 0,
       "commentThread": [],
       "commentsVisible": false,
       "contentSha256Hex": null,
       "customPlotOptions": {
        "redashChart": [
         {
          "key": "type",
          "value": "CHART"
         },
         {
          "key": "options",
          "value": {
           "alignYAxesAtZero": true,
           "coefficient": 1,
           "columnConfigurationMap": {
            "x": {
             "column": "Sex",
             "id": "column_a4e94a64121"
            },
            "y": [
             {
              "column": "Percentage",
              "id": "column_a4e94a64115",
              "transform": "SUM"
             }
            ]
           },
           "dateTimeFormat": "DD/MM/YYYY HH:mm",
           "direction": {
            "type": "counterclockwise"
           },
           "error_y": {
            "type": "data",
            "visible": true
           },
           "globalSeriesType": "pie",
           "isAggregationOn": true,
           "legend": {
            "traceorder": "normal"
           },
           "missingValuesAsZero": true,
           "numberFormat": "0,0.[00000]",
           "percentFormat": "0[.]00%",
           "series": {
            "error_y": {
             "type": "data",
             "visible": true
            },
            "stacking": null
           },
           "seriesOptions": {
            "column_a4e94a64115": {
             "name": "Gender distribution of individuals with heart disease",
             "type": "pie",
             "yAxis": 0
            }
           },
           "showDataLabels": true,
           "sizemode": "diameter",
           "sortX": true,
           "sortY": true,
           "swappedAxes": false,
           "textFormat": "",
           "useAggregationsUi": true,
           "valuesOptions": {},
           "version": 2,
           "xAxis": {
            "labels": {
             "enabled": true
            },
            "type": "-"
           },
           "yAxis": [
            {
             "type": "-"
            },
            {
             "opposite": true,
             "type": "-"
            }
           ]
          }
         }
        ]
       },
       "datasetPreviewNameToCmdIdMap": {},
       "diffDeletes": [],
       "diffInserts": [],
       "displayType": "redashChart",
       "error": null,
       "errorDetails": null,
       "errorSummary": null,
       "errorTraceType": null,
       "finishTime": 0,
       "globalVars": {},
       "guid": "",
       "height": "auto",
       "hideCommandCode": false,
       "hideCommandResult": false,
       "iPythonMetadata": null,
       "inputWidgets": {},
       "isLockedInExamMode": false,
       "latestUser": "a user",
       "latestUserId": null,
       "listResultMetadata": null,
       "metadata": {
        "byteLimit": 2048000,
        "implicitDf": true,
        "rowLimit": 10000
       },
       "nuid": "b2ecad62-0106-4117-9ec4-bd5cdbceae1d",
       "origId": 0,
       "parentHierarchy": [],
       "pivotAggregation": null,
       "pivotColumns": null,
       "position": 9.859375,
       "resultDbfsErrorMessage": null,
       "resultDbfsStatus": "INLINED_IN_TREE",
       "results": null,
       "showCommandTitle": false,
       "startTime": 0,
       "state": "finished",
       "streamStates": {},
       "subcommandOptions": {
        "queryPlan": {
         "groups": [
          {
           "column": "Sex",
           "type": "column"
          }
         ],
         "selects": [
          {
           "column": "Sex",
           "type": "column"
          },
          {
           "alias": "column_a4e94a64115",
           "args": [
            {
             "column": "Percentage",
             "type": "column"
            }
           ],
           "function": "SUM",
           "type": "function"
          }
         ]
        }
       },
       "submitTime": 0,
       "subtype": "tableResultSubCmd.visualization",
       "tableResultIndex": 0,
       "tableResultSettingsMap": {},
       "useConsistentColors": false,
       "version": "CommandV1",
       "width": "auto",
       "workflows": [],
       "xColumns": null,
       "yColumns": null
      }
     },
     "output_type": "display_data"
    }
   ],
   "source": [
    "%sql\n",
    "SELECT \n",
    "    Sex,\n",
    "    COUNT(*) AS Count,\n",
    "    ROUND((COUNT(*) * 100.0) / SUM(COUNT(*)) OVER (), 2) AS Percentage\n",
    "FROM heart_disease_data\n",
    "WHERE HeartDisease = 'Yes'\n",
    "GROUP BY Sex\n",
    "ORDER BY Percentage DESC;\n"
   ]
  },
  {
   "cell_type": "markdown",
   "metadata": {
    "application/vnd.databricks.v1+cell": {
     "cellMetadata": {
      "byteLimit": 2048000,
      "rowLimit": 10000
     },
     "inputWidgets": {},
     "nuid": "78a46aa4-431e-4e66-aefb-59f20f8b321d",
     "showTitle": false,
     "tableResultSettingsMap": {},
     "title": ""
    }
   },
   "source": [
    "##### Wnioski:\n",
    "- ##### 59% osób z chorobami serca to mężczyźni, a 41% to kobiety.\n",
    "- ##### mężczyźni chorują częściej niż wynikałoby to tylko z ich udziału w populacji."
   ]
  },
  {
   "cell_type": "markdown",
   "metadata": {
    "application/vnd.databricks.v1+cell": {
     "cellMetadata": {
      "byteLimit": 2048000,
      "rowLimit": 10000
     },
     "inputWidgets": {},
     "nuid": "b1e3e6c0-5c27-489a-8767-e40d4654ab52",
     "showTitle": false,
     "tableResultSettingsMap": {},
     "title": ""
    }
   },
   "source": []
  },
  {
   "cell_type": "markdown",
   "metadata": {
    "application/vnd.databricks.v1+cell": {
     "cellMetadata": {
      "byteLimit": 2048000,
      "rowLimit": 10000
     },
     "inputWidgets": {},
     "nuid": "45fda59d-a285-42f5-96ab-4799d6135287",
     "showTitle": false,
     "tableResultSettingsMap": {},
     "title": ""
    }
   },
   "source": [
    "#### 3) Wykres kołowy: Porównanie liczby osób z chorobami serca i bez nich"
   ]
  },
  {
   "cell_type": "code",
   "execution_count": null,
   "metadata": {
    "application/vnd.databricks.v1+cell": {
     "cellMetadata": {
      "byteLimit": 2048000,
      "rowLimit": 10000
     },
     "inputWidgets": {},
     "nuid": "6136481d-7b4c-4cb7-8a35-0588c1b371cd",
     "showTitle": false,
     "tableResultSettingsMap": {},
     "title": ""
    }
   },
   "outputs": [
    {
     "data": {
      "text/html": [
       "<style scoped>\n",
       "  .table-result-container {\n",
       "    max-height: 300px;\n",
       "    overflow: auto;\n",
       "  }\n",
       "  table, th, td {\n",
       "    border: 1px solid black;\n",
       "    border-collapse: collapse;\n",
       "  }\n",
       "  th, td {\n",
       "    padding: 5px;\n",
       "  }\n",
       "  th {\n",
       "    text-align: left;\n",
       "  }\n",
       "</style><div class='table-result-container'><table class='table-result'><thead style='background-color: white'><tr><th>HeartDisease</th><th>Count</th></tr></thead><tbody><tr><td>No</td><td>292398</td></tr><tr><td>Yes</td><td>27367</td></tr></tbody></table></div>"
      ]
     },
     "metadata": {
      "application/vnd.databricks.v1+output": {
       "addedWidgets": {},
       "aggData": [],
       "aggError": "",
       "aggOverflow": false,
       "aggSchema": [],
       "aggSeriesLimitReached": false,
       "aggType": "",
       "arguments": {},
       "columnCustomDisplayInfos": {},
       "data": [
        [
         "No",
         292398
        ],
        [
         "Yes",
         27367
        ]
       ],
       "datasetInfos": [],
       "dbfsResultPath": null,
       "isJsonSchema": true,
       "metadata": {},
       "overflow": false,
       "plotOptions": {
        "customPlotOptions": {},
        "displayType": "table",
        "pivotAggregation": null,
        "pivotColumns": null,
        "xColumns": null,
        "yColumns": null
       },
       "removedWidgets": [],
       "schema": [
        {
         "metadata": "{}",
         "name": "HeartDisease",
         "type": "\"string\""
        },
        {
         "metadata": "{}",
         "name": "Count",
         "type": "\"long\""
        }
       ],
       "type": "table"
      }
     },
     "output_type": "display_data"
    },
    {
     "data": {
      "text/plain": [
       "Databricks visualization. Run in Databricks to view."
      ]
     },
     "metadata": {
      "application/vnd.databricks.v1.subcommand+json": {
       "baseErrorDetails": null,
       "bindings": {},
       "collapsed": false,
       "command": "%python\n__backend_agg_display_orig = display\n__backend_agg_dfs = []\ndef __backend_agg_display_new(df):\n    __backend_agg_df_modules = [\"pandas.core.frame\", \"databricks.koalas.frame\", \"pyspark.sql.dataframe\", \"pyspark.pandas.frame\", \"pyspark.sql.connect.dataframe\"]\n    if (type(df).__module__ in __backend_agg_df_modules and type(df).__name__ == 'DataFrame') or isinstance(df, list):\n        __backend_agg_dfs.append(df)\n\ndisplay = __backend_agg_display_new\n\ndef __backend_agg_user_code_fn():\n    import base64\n    exec(base64.standard_b64decode(\"aGVhcnRfZGlzZWFzZV9jb3VudHMgPSBkZi5ncm91cEJ5KCJIZWFydERpc2Vhc2UiKS5hZ2coY291bnQoIioiKS5hbGlhcygiQ291bnQiKSkKCmRpc3BsYXkoaGVhcnRfZGlzZWFzZV9jb3VudHMpCg==\").decode())\n\ntry:\n    # run user code\n    __backend_agg_user_code_fn()\n\n    #reset display function\n    display = __backend_agg_display_orig\n\n    if len(__backend_agg_dfs) > 0:\n        # create a temp view\n        if type(__backend_agg_dfs[0]).__module__ == \"databricks.koalas.frame\":\n            # koalas dataframe\n            __backend_agg_dfs[0].to_spark().createOrReplaceTempView(\"DatabricksView7ff78d3\")\n        elif type(__backend_agg_dfs[0]).__module__ == \"pandas.core.frame\" or isinstance(__backend_agg_dfs[0], list):\n            # pandas dataframe\n            spark.createDataFrame(__backend_agg_dfs[0]).createOrReplaceTempView(\"DatabricksView7ff78d3\")\n        else:\n            __backend_agg_dfs[0].createOrReplaceTempView(\"DatabricksView7ff78d3\")\n        #run backend agg\n        display(spark.sql(\"\"\"WITH q AS (select * from DatabricksView7ff78d3) SELECT `HeartDisease`,SUM(`Count`) `column_4766ce4b39` FROM q GROUP BY `HeartDisease`\"\"\"))\n    else:\n        displayHTML(\"dataframe no longer exists. If you're using dataframe.display(), use display(dataframe) instead.\")\n\n\nfinally:\n    spark.sql(\"drop view if exists DatabricksView7ff78d3\")\n    display = __backend_agg_display_orig\n    del __backend_agg_display_new\n    del __backend_agg_display_orig\n    del __backend_agg_dfs\n    del __backend_agg_user_code_fn\n\n",
       "commandTitle": "Visualization 1",
       "commandType": "auto",
       "commandVersion": 0,
       "commentThread": [],
       "commentsVisible": false,
       "contentSha256Hex": null,
       "customPlotOptions": {
        "redashChart": [
         {
          "key": "type",
          "value": "CHART"
         },
         {
          "key": "options",
          "value": {
           "alignYAxesAtZero": true,
           "coefficient": 1,
           "columnConfigurationMap": {
            "x": {
             "column": "HeartDisease",
             "id": "column_4766ce4b38"
            },
            "y": [
             {
              "column": "Count",
              "id": "column_4766ce4b39",
              "transform": "SUM"
             }
            ]
           },
           "dateTimeFormat": "DD/MM/YYYY HH:mm",
           "direction": {
            "type": "counterclockwise"
           },
           "error_y": {
            "type": "data",
            "visible": true
           },
           "globalSeriesType": "pie",
           "isAggregationOn": true,
           "legend": {
            "traceorder": "normal"
           },
           "missingValuesAsZero": true,
           "numberFormat": "0,0.[00000]",
           "percentFormat": "0[.]00%",
           "series": {
            "error_y": {
             "type": "data",
             "visible": true
            },
            "stacking": null
           },
           "seriesOptions": {
            "column_4766ce4b39": {
             "name": "Percentage distribution of people with and without heart disease.",
             "type": "pie",
             "yAxis": 0
            }
           },
           "showDataLabels": true,
           "sizemode": "diameter",
           "sortX": true,
           "sortY": true,
           "swappedAxes": false,
           "textFormat": "",
           "useAggregationsUi": true,
           "valuesOptions": {},
           "version": 2,
           "xAxis": {
            "labels": {
             "enabled": true
            },
            "type": "-"
           },
           "yAxis": [
            {
             "type": "-"
            },
            {
             "opposite": true,
             "type": "-"
            }
           ]
          }
         }
        ]
       },
       "datasetPreviewNameToCmdIdMap": {},
       "diffDeletes": [],
       "diffInserts": [],
       "displayType": "redashChart",
       "error": null,
       "errorDetails": null,
       "errorSummary": null,
       "errorTraceType": null,
       "finishTime": 0,
       "globalVars": {},
       "guid": "",
       "height": "auto",
       "hideCommandCode": false,
       "hideCommandResult": false,
       "iPythonMetadata": null,
       "inputWidgets": {},
       "isLockedInExamMode": false,
       "latestUser": "a user",
       "latestUserId": null,
       "listResultMetadata": null,
       "metadata": {
        "byteLimit": 2048000,
        "rowLimit": 10000
       },
       "nuid": "de492d4a-ce16-450b-bc16-52a0c1ad3941",
       "origId": 0,
       "parentHierarchy": [],
       "pivotAggregation": null,
       "pivotColumns": null,
       "position": 10,
       "resultDbfsErrorMessage": null,
       "resultDbfsStatus": "INLINED_IN_TREE",
       "results": null,
       "showCommandTitle": false,
       "startTime": 0,
       "state": "finished",
       "streamStates": {},
       "subcommandOptions": {
        "queryPlan": {
         "groups": [
          {
           "column": "HeartDisease",
           "type": "column"
          }
         ],
         "selects": [
          {
           "column": "HeartDisease",
           "type": "column"
          },
          {
           "alias": "column_4766ce4b39",
           "args": [
            {
             "column": "Count",
             "type": "column"
            }
           ],
           "function": "SUM",
           "type": "function"
          }
         ]
        }
       },
       "submitTime": 0,
       "subtype": "tableResultSubCmd.visualization",
       "tableResultIndex": 0,
       "tableResultSettingsMap": {},
       "useConsistentColors": false,
       "version": "CommandV1",
       "width": "auto",
       "workflows": [],
       "xColumns": null,
       "yColumns": null
      }
     },
     "output_type": "display_data"
    }
   ],
   "source": [
    "heart_disease_counts = df.groupBy(\"HeartDisease\").agg(count(\"*\").alias(\"Count\"))\n",
    "\n",
    "display(heart_disease_counts)\n"
   ]
  },
  {
   "cell_type": "markdown",
   "metadata": {
    "application/vnd.databricks.v1+cell": {
     "cellMetadata": {
      "byteLimit": 2048000,
      "rowLimit": 10000
     },
     "inputWidgets": {},
     "nuid": "f42c53c1-69ae-49e3-b051-f54060d82801",
     "showTitle": false,
     "tableResultSettingsMap": {},
     "title": ""
    }
   },
   "source": [
    "##### Wnioski:\n",
    "- #####  Lekko ponad 8,50% badanej populacji ma zdiagnozowaną chorobę serca, gdzie prawie 91.5% takiej nie posiada."
   ]
  },
  {
   "cell_type": "markdown",
   "metadata": {
    "application/vnd.databricks.v1+cell": {
     "cellMetadata": {
      "byteLimit": 2048000,
      "rowLimit": 10000
     },
     "inputWidgets": {},
     "nuid": "00e35b3f-73ae-4328-9eea-037b01793f3e",
     "showTitle": false,
     "tableResultSettingsMap": {},
     "title": ""
    }
   },
   "source": []
  },
  {
   "cell_type": "markdown",
   "metadata": {
    "application/vnd.databricks.v1+cell": {
     "cellMetadata": {
      "byteLimit": 2048000,
      "rowLimit": 10000
     },
     "inputWidgets": {},
     "nuid": "f204dfd0-b24e-49d0-9fbc-70cb5e721cb3",
     "showTitle": false,
     "tableResultSettingsMap": {},
     "title": ""
    }
   },
   "source": [
    "#### 4)  wykres liniowy: Liczba obserwacji występowania chorób serca w badanej populacji w rożnych grupach wiekowych z podziałem na płeć"
   ]
  },
  {
   "cell_type": "code",
   "execution_count": null,
   "metadata": {
    "application/vnd.databricks.v1+cell": {
     "cellMetadata": {
      "byteLimit": 2048000,
      "rowLimit": 10000
     },
     "inputWidgets": {},
     "nuid": "1902a21b-3226-461d-af07-56f2cc727be2",
     "showTitle": false,
     "tableResultSettingsMap": {},
     "title": ""
    }
   },
   "outputs": [
    {
     "data": {
      "text/html": [
       "<style scoped>\n",
       "  .table-result-container {\n",
       "    max-height: 300px;\n",
       "    overflow: auto;\n",
       "  }\n",
       "  table, th, td {\n",
       "    border: 1px solid black;\n",
       "    border-collapse: collapse;\n",
       "  }\n",
       "  th, td {\n",
       "    padding: 5px;\n",
       "  }\n",
       "  th {\n",
       "    text-align: left;\n",
       "  }\n",
       "</style><div class='table-result-container'><table class='table-result'><thead style='background-color: white'><tr><th>AgeCategory</th><th>Sex</th><th>Count</th></tr></thead><tbody><tr><td>18-24</td><td>Male</td><td>79</td></tr><tr><td>70-74</td><td>Male</td><td>3037</td></tr><tr><td>75-79</td><td>Female</td><td>1642</td></tr><tr><td>80 or older</td><td>Female</td><td>2627</td></tr><tr><td>55-59</td><td>Female</td><td>908</td></tr><tr><td>70-74</td><td>Female</td><td>1810</td></tr><tr><td>30-34</td><td>Female</td><td>99</td></tr><tr><td>45-49</td><td>Female</td><td>320</td></tr><tr><td>35-39</td><td>Male</td><td>148</td></tr><tr><td>40-44</td><td>Female</td><td>243</td></tr><tr><td>75-79</td><td>Male</td><td>2407</td></tr><tr><td>55-59</td><td>Male</td><td>1293</td></tr><tr><td>25-29</td><td>Female</td><td>66</td></tr><tr><td>35-39</td><td>Female</td><td>148</td></tr><tr><td>30-34</td><td>Male</td><td>127</td></tr><tr><td>60-64</td><td>Male</td><td>2070</td></tr><tr><td>65-69</td><td>Female</td><td>1466</td></tr><tr><td>65-69</td><td>Male</td><td>2634</td></tr><tr><td>60-64</td><td>Female</td><td>1256</td></tr><tr><td>50-54</td><td>Male</td><td>787</td></tr><tr><td>25-29</td><td>Male</td><td>67</td></tr><tr><td>18-24</td><td>Female</td><td>50</td></tr><tr><td>80 or older</td><td>Male</td><td>2821</td></tr><tr><td>40-44</td><td>Male</td><td>243</td></tr><tr><td>45-49</td><td>Male</td><td>424</td></tr><tr><td>50-54</td><td>Female</td><td>595</td></tr></tbody></table></div>"
      ]
     },
     "metadata": {
      "application/vnd.databricks.v1+output": {
       "addedWidgets": {},
       "aggData": [],
       "aggError": "",
       "aggOverflow": false,
       "aggSchema": [],
       "aggSeriesLimitReached": false,
       "aggType": "",
       "arguments": {},
       "columnCustomDisplayInfos": {},
       "data": [
        [
         "18-24",
         "Male",
         79
        ],
        [
         "70-74",
         "Male",
         3037
        ],
        [
         "75-79",
         "Female",
         1642
        ],
        [
         "80 or older",
         "Female",
         2627
        ],
        [
         "55-59",
         "Female",
         908
        ],
        [
         "70-74",
         "Female",
         1810
        ],
        [
         "30-34",
         "Female",
         99
        ],
        [
         "45-49",
         "Female",
         320
        ],
        [
         "35-39",
         "Male",
         148
        ],
        [
         "40-44",
         "Female",
         243
        ],
        [
         "75-79",
         "Male",
         2407
        ],
        [
         "55-59",
         "Male",
         1293
        ],
        [
         "25-29",
         "Female",
         66
        ],
        [
         "35-39",
         "Female",
         148
        ],
        [
         "30-34",
         "Male",
         127
        ],
        [
         "60-64",
         "Male",
         2070
        ],
        [
         "65-69",
         "Female",
         1466
        ],
        [
         "65-69",
         "Male",
         2634
        ],
        [
         "60-64",
         "Female",
         1256
        ],
        [
         "50-54",
         "Male",
         787
        ],
        [
         "25-29",
         "Male",
         67
        ],
        [
         "18-24",
         "Female",
         50
        ],
        [
         "80 or older",
         "Male",
         2821
        ],
        [
         "40-44",
         "Male",
         243
        ],
        [
         "45-49",
         "Male",
         424
        ],
        [
         "50-54",
         "Female",
         595
        ]
       ],
       "datasetInfos": [],
       "dbfsResultPath": null,
       "isJsonSchema": true,
       "metadata": {},
       "overflow": false,
       "plotOptions": {
        "customPlotOptions": {},
        "displayType": "table",
        "pivotAggregation": null,
        "pivotColumns": null,
        "xColumns": null,
        "yColumns": null
       },
       "removedWidgets": [],
       "schema": [
        {
         "metadata": "{}",
         "name": "AgeCategory",
         "type": "\"string\""
        },
        {
         "metadata": "{}",
         "name": "Sex",
         "type": "\"string\""
        },
        {
         "metadata": "{}",
         "name": "Count",
         "type": "\"long\""
        }
       ],
       "type": "table"
      }
     },
     "output_type": "display_data"
    },
    {
     "data": {
      "text/plain": [
       "Databricks visualization. Run in Databricks to view."
      ]
     },
     "metadata": {
      "application/vnd.databricks.v1.subcommand+json": {
       "baseErrorDetails": null,
       "bindings": {},
       "collapsed": false,
       "command": "%python\n__backend_agg_display_orig = display\n__backend_agg_dfs = []\ndef __backend_agg_display_new(df):\n    __backend_agg_df_modules = [\"pandas.core.frame\", \"databricks.koalas.frame\", \"pyspark.sql.dataframe\", \"pyspark.pandas.frame\", \"pyspark.sql.connect.dataframe\"]\n    if (type(df).__module__ in __backend_agg_df_modules and type(df).__name__ == 'DataFrame') or isinstance(df, list):\n        __backend_agg_dfs.append(df)\n\ndisplay = __backend_agg_display_new\n\ndef __backend_agg_user_code_fn():\n    import base64\n    exec(base64.standard_b64decode(\"aGVhcnRfZGlzZWFzZV9kYXRhID0gZGYuZmlsdGVyKGRmWyJIZWFydERpc2Vhc2UiXSA9PSAiWWVzIikKYWdlX3NleF9jb3VudHMgPSBoZWFydF9kaXNlYXNlX2RhdGEuZ3JvdXBCeSgiQWdlQ2F0ZWdvcnkiLCAiU2V4IikuYWdnKGNvdW50KCIqIikuYWxpYXMoIkNvdW50IikpCgpkaXNwbGF5KGFnZV9zZXhfY291bnRzKQ==\").decode())\n\ntry:\n    # run user code\n    __backend_agg_user_code_fn()\n\n    #reset display function\n    display = __backend_agg_display_orig\n\n    if len(__backend_agg_dfs) > 0:\n        # create a temp view\n        if type(__backend_agg_dfs[0]).__module__ == \"databricks.koalas.frame\":\n            # koalas dataframe\n            __backend_agg_dfs[0].to_spark().createOrReplaceTempView(\"DatabricksViewb78e1b6\")\n        elif type(__backend_agg_dfs[0]).__module__ == \"pandas.core.frame\" or isinstance(__backend_agg_dfs[0], list):\n            # pandas dataframe\n            spark.createDataFrame(__backend_agg_dfs[0]).createOrReplaceTempView(\"DatabricksViewb78e1b6\")\n        else:\n            __backend_agg_dfs[0].createOrReplaceTempView(\"DatabricksViewb78e1b6\")\n        #run backend agg\n        display(spark.sql(\"\"\"WITH q AS (select * from DatabricksViewb78e1b6) SELECT `AgeCategory`,`Sex`,SUM(`Count`) `column_4766ce4b63` FROM q GROUP BY `AgeCategory`,`Sex`\"\"\"))\n    else:\n        displayHTML(\"dataframe no longer exists. If you're using dataframe.display(), use display(dataframe) instead.\")\n\n\nfinally:\n    spark.sql(\"drop view if exists DatabricksViewb78e1b6\")\n    display = __backend_agg_display_orig\n    del __backend_agg_display_new\n    del __backend_agg_display_orig\n    del __backend_agg_dfs\n    del __backend_agg_user_code_fn\n\n",
       "commandTitle": "Visualization 1",
       "commandType": "auto",
       "commandVersion": 0,
       "commentThread": [],
       "commentsVisible": false,
       "contentSha256Hex": null,
       "customPlotOptions": {
        "redashChart": [
         {
          "key": "type",
          "value": "CHART"
         },
         {
          "key": "options",
          "value": {
           "alignYAxesAtZero": true,
           "coefficient": 1,
           "columnConfigurationMap": {
            "series": {
             "column": "Sex",
             "id": "column_4766ce4b62"
            },
            "x": {
             "column": "AgeCategory",
             "id": "column_4766ce4b61"
            },
            "y": [
             {
              "column": "Count",
              "id": "column_4766ce4b63",
              "transform": "SUM"
             }
            ]
           },
           "dateTimeFormat": "DD/MM/YYYY HH:mm",
           "direction": {
            "type": "counterclockwise"
           },
           "error_y": {
            "type": "data",
            "visible": true
           },
           "globalSeriesType": "line",
           "legend": {
            "traceorder": "normal"
           },
           "missingValuesAsZero": true,
           "numberFormat": "0,0.[00000]",
           "percentFormat": "0[.]00%",
           "series": {
            "error_y": {
             "type": "data",
             "visible": true
            }
           },
           "seriesOptions": {
            "column_4766ce4b63": {
             "name": "Count",
             "type": "line",
             "yAxis": 0
            }
           },
           "showDataLabels": false,
           "sizemode": "diameter",
           "sortX": true,
           "sortY": true,
           "swappedAxes": false,
           "textFormat": "",
           "useAggregationsUi": true,
           "valuesOptions": {},
           "version": 2,
           "xAxis": {
            "labels": {
             "enabled": true
            },
            "type": "-"
           },
           "yAxis": [
            {
             "type": "-"
            },
            {
             "opposite": true,
             "type": "-"
            }
           ]
          }
         }
        ]
       },
       "datasetPreviewNameToCmdIdMap": {},
       "diffDeletes": [],
       "diffInserts": [],
       "displayType": "redashChart",
       "error": null,
       "errorDetails": null,
       "errorSummary": null,
       "errorTraceType": null,
       "finishTime": 0,
       "globalVars": {},
       "guid": "",
       "height": "auto",
       "hideCommandCode": false,
       "hideCommandResult": false,
       "iPythonMetadata": null,
       "inputWidgets": {},
       "isLockedInExamMode": false,
       "latestUser": "a user",
       "latestUserId": null,
       "listResultMetadata": null,
       "metadata": {
        "byteLimit": 2048000,
        "rowLimit": 10000
       },
       "nuid": "be6d48ef-cb6d-49dc-acba-e732db803ce6",
       "origId": 0,
       "parentHierarchy": [],
       "pivotAggregation": null,
       "pivotColumns": null,
       "position": 11,
       "resultDbfsErrorMessage": null,
       "resultDbfsStatus": "INLINED_IN_TREE",
       "results": null,
       "showCommandTitle": false,
       "startTime": 0,
       "state": "finished",
       "streamStates": {},
       "subcommandOptions": {
        "queryPlan": {
         "groups": [
          {
           "column": "AgeCategory",
           "type": "column"
          },
          {
           "column": "Sex",
           "type": "column"
          }
         ],
         "selects": [
          {
           "column": "AgeCategory",
           "type": "column"
          },
          {
           "column": "Sex",
           "type": "column"
          },
          {
           "alias": "column_4766ce4b63",
           "args": [
            {
             "column": "Count",
             "type": "column"
            }
           ],
           "function": "SUM",
           "type": "function"
          }
         ]
        }
       },
       "submitTime": 0,
       "subtype": "tableResultSubCmd.visualization",
       "tableResultIndex": 0,
       "tableResultSettingsMap": {},
       "useConsistentColors": false,
       "version": "CommandV1",
       "width": "auto",
       "workflows": [],
       "xColumns": null,
       "yColumns": null
      }
     },
     "output_type": "display_data"
    }
   ],
   "source": [
    "heart_disease_data = df.filter(df[\"HeartDisease\"] == \"Yes\")\n",
    "age_sex_counts = heart_disease_data.groupBy(\"AgeCategory\", \"Sex\").agg(count(\"*\").alias(\"Count\"))\n",
    "\n",
    "display(age_sex_counts)"
   ]
  },
  {
   "cell_type": "markdown",
   "metadata": {
    "application/vnd.databricks.v1+cell": {
     "cellMetadata": {
      "byteLimit": 2048000,
      "rowLimit": 10000
     },
     "inputWidgets": {},
     "nuid": "4c972a26-015e-4be0-9ea3-841427494d9d",
     "showTitle": false,
     "tableResultSettingsMap": {},
     "title": ""
    }
   },
   "source": [
    "##### Wnioski:\n",
    "- ##### Mężczyźni częściej chorują na choroby serca niż kobiety w każdej grupie wiekowej.\n",
    "- ##### Różnica ta pogłębia się po 50 roku życia, kiedy liczba przypadków wśród mężczyzn rośnie znacznie szybciej niż u kobiet.\n",
    "- ##### W grupie wiekowej 75-79 lat widoczny jest spadek liczby przypadków u kobiet, jednak po 80 roku życia ponownie wzrasta, co może sugerować, że kobiety żyją dłużej, ale w starszym wieku ich ryzyko zachorowania również rośnie."
   ]
  },
  {
   "cell_type": "markdown",
   "metadata": {
    "application/vnd.databricks.v1+cell": {
     "cellMetadata": {
      "byteLimit": 2048000,
      "rowLimit": 10000
     },
     "inputWidgets": {},
     "nuid": "36ac7ca6-02b3-4d66-9ea9-a906cbae6e64",
     "showTitle": false,
     "tableResultSettingsMap": {},
     "title": ""
    }
   },
   "source": []
  },
  {
   "cell_type": "markdown",
   "metadata": {
    "application/vnd.databricks.v1+cell": {
     "cellMetadata": {
      "byteLimit": 2048000,
      "rowLimit": 10000
     },
     "inputWidgets": {},
     "nuid": "e284589b-400c-45d3-87ed-2e98f84addae",
     "showTitle": false,
     "tableResultSettingsMap": {},
     "title": ""
    }
   },
   "source": [
    "#### 5) Wykres słupkowy: Rozkład procentowy różnych kategorii BMI wśród osób z chorobą serca"
   ]
  },
  {
   "cell_type": "code",
   "execution_count": null,
   "metadata": {
    "application/vnd.databricks.v1+cell": {
     "cellMetadata": {
      "byteLimit": 2048000,
      "rowLimit": 10000
     },
     "inputWidgets": {},
     "nuid": "89655914-d740-415d-836a-8700680be081",
     "showTitle": false,
     "tableResultSettingsMap": {},
     "title": ""
    }
   },
   "outputs": [
    {
     "data": {
      "text/html": [
       "<style scoped>\n",
       "  .table-result-container {\n",
       "    max-height: 300px;\n",
       "    overflow: auto;\n",
       "  }\n",
       "  table, th, td {\n",
       "    border: 1px solid black;\n",
       "    border-collapse: collapse;\n",
       "  }\n",
       "  th, td {\n",
       "    padding: 5px;\n",
       "  }\n",
       "  th {\n",
       "    text-align: left;\n",
       "  }\n",
       "</style><div class='table-result-container'><table class='table-result'><thead style='background-color: white'><tr><th>BMI_Category</th><th>Count</th><th>Percentage</th><th>BMI_Order</th></tr></thead><tbody><tr><td>Niedowaga</td><td>401</td><td>1.47</td><td>1</td></tr><tr><td>Waga prawidłowa</td><td>6307</td><td>23.05</td><td>2</td></tr><tr><td>Nadwaga</td><td>9990</td><td>36.5</td><td>3</td></tr><tr><td>Otyłość I stopnia</td><td>6160</td><td>22.51</td><td>4</td></tr><tr><td>Otyłość II stopnia</td><td>2698</td><td>9.86</td><td>5</td></tr><tr><td>Otyłość III stopnia</td><td>1811</td><td>6.62</td><td>6</td></tr></tbody></table></div>"
      ]
     },
     "metadata": {
      "application/vnd.databricks.v1+output": {
       "addedWidgets": {},
       "aggData": [],
       "aggError": "",
       "aggOverflow": false,
       "aggSchema": [],
       "aggSeriesLimitReached": false,
       "aggType": "",
       "arguments": {},
       "columnCustomDisplayInfos": {},
       "data": [
        [
         "Niedowaga",
         401,
         1.47,
         1
        ],
        [
         "Waga prawidłowa",
         6307,
         23.05,
         2
        ],
        [
         "Nadwaga",
         9990,
         36.5,
         3
        ],
        [
         "Otyłość I stopnia",
         6160,
         22.51,
         4
        ],
        [
         "Otyłość II stopnia",
         2698,
         9.86,
         5
        ],
        [
         "Otyłość III stopnia",
         1811,
         6.62,
         6
        ]
       ],
       "datasetInfos": [],
       "dbfsResultPath": null,
       "isJsonSchema": true,
       "metadata": {},
       "overflow": false,
       "plotOptions": {
        "customPlotOptions": {},
        "displayType": "table",
        "pivotAggregation": null,
        "pivotColumns": null,
        "xColumns": null,
        "yColumns": null
       },
       "removedWidgets": [],
       "schema": [
        {
         "metadata": "{}",
         "name": "BMI_Category",
         "type": "\"string\""
        },
        {
         "metadata": "{}",
         "name": "Count",
         "type": "\"long\""
        },
        {
         "metadata": "{}",
         "name": "Percentage",
         "type": "\"double\""
        },
        {
         "metadata": "{}",
         "name": "BMI_Order",
         "type": "\"integer\""
        }
       ],
       "type": "table"
      }
     },
     "output_type": "display_data"
    },
    {
     "data": {
      "text/plain": [
       "Databricks visualization. Run in Databricks to view."
      ]
     },
     "metadata": {
      "application/vnd.databricks.v1.subcommand+json": {
       "baseErrorDetails": null,
       "bindings": {},
       "collapsed": false,
       "command": "%python\n__backend_agg_display_orig = display\n__backend_agg_dfs = []\ndef __backend_agg_display_new(df):\n    __backend_agg_df_modules = [\"pandas.core.frame\", \"databricks.koalas.frame\", \"pyspark.sql.dataframe\", \"pyspark.pandas.frame\", \"pyspark.sql.connect.dataframe\"]\n    if (type(df).__module__ in __backend_agg_df_modules and type(df).__name__ == 'DataFrame') or isinstance(df, list):\n        __backend_agg_dfs.append(df)\n\ndisplay = __backend_agg_display_new\n\ndef __backend_agg_user_code_fn():\n    import base64\n    exec(base64.standard_b64decode(\"aGVhcnRfZGlzZWFzZV9kZiA9IGRmLmZpbHRlcihjb2woIkhlYXJ0RGlzZWFzZSIpID09ICJZZXMiKQoKCmhlYXJ0X2Rpc2Vhc2VfZGYgPSBoZWFydF9kaXNlYXNlX2RmLndpdGhDb2x1bW4oCiAgICAiQk1JX0NhdGVnb3J5IiwKICAgIHdoZW4oY29sKCJCTUkiKSA8IDE4LjUsICJOaWVkb3dhZ2EiKQogICAgLndoZW4oKGNvbCgiQk1JIikgPj0gMTguNSkgJiAoY29sKCJCTUkiKSA8IDI1KSwgIldhZ2EgcHJhd2lkxYJvd2EiKQogICAgLndoZW4oKGNvbCgiQk1JIikgPj0gMjUpICYgKGNvbCgiQk1JIikgPCAzMCksICJOYWR3YWdhIikKICAgIC53aGVuKChjb2woIkJNSSIpID49IDMwKSAmIChjb2woIkJNSSIpIDwgMzUpLCAiT3R5xYJvxZvEhyBJIHN0b3BuaWEiKQogICAgLndoZW4oKGNvbCgiQk1JIikgPj0gMzUpICYgKGNvbCgiQk1JIikgPCA0MCksICJPdHnFgm/Fm8SHIElJIHN0b3BuaWEiKQogICAgLm90aGVyd2lzZSgiT3R5xYJvxZvEhyBJSUkgc3RvcG5pYSIpKQoKCmJtaV9kaXN0cmlidXRpb24gPSBoZWFydF9kaXNlYXNlX2RmLmdyb3VwQnkoIkJNSV9DYXRlZ29yeSIpLmFnZyhjb3VudCgiKiIpLmFsaWFzKCJDb3VudCIpKQoKCnRvdGFsX2NvdW50ID0gaGVhcnRfZGlzZWFzZV9kZi5jb3VudCgpCmJtaV9kaXN0cmlidXRpb24gPSBibWlfZGlzdHJpYnV0aW9uLndpdGhDb2x1bW4oIlBlcmNlbnRhZ2UiLCByb3VuZCgoY29sKCJDb3VudCIpIC8gdG90YWxfY291bnQpICogMTAwLCAyKSkKCgpibWlfZGlzdHJpYnV0aW9uID0gYm1pX2Rpc3RyaWJ1dGlvbi53aXRoQ29sdW1uKAogICAgIkJNSV9PcmRlciIsCiAgICB3aGVuKGNvbCgiQk1JX0NhdGVnb3J5IikgPT0gIk5pZWRvd2FnYSIsIDEpCiAgICAud2hlbihjb2woIkJNSV9DYXRlZ29yeSIpID09ICJXYWdhIHByYXdpZMWCb3dhIiwgMikKICAgIC53aGVuKGNvbCgiQk1JX0NhdGVnb3J5IikgPT0gIk5hZHdhZ2EiLCAzKQogICAgLndoZW4oY29sKCJCTUlfQ2F0ZWdvcnkiKSA9PSAiT3R5xYJvxZvEhyBJIHN0b3BuaWEiLCA0KQogICAgLndoZW4oY29sKCJCTUlfQ2F0ZWdvcnkiKSA9PSAiT3R5xYJvxZvEhyBJSSBzdG9wbmlhIiwgNSkKICAgIC5vdGhlcndpc2UoNikpICAjIE90ecWCb8WbxIcgSUlJIHN0b3BuaWEpCgpibWlfZGlzdHJpYnV0aW9uID0gYm1pX2Rpc3RyaWJ1dGlvbi5vcmRlckJ5KCJCTUlfT3JkZXIiKQoKCmRpc3BsYXkoYm1pX2Rpc3RyaWJ1dGlvbik=\").decode())\n\ntry:\n    # run user code\n    __backend_agg_user_code_fn()\n\n    #reset display function\n    display = __backend_agg_display_orig\n\n    if len(__backend_agg_dfs) > 0:\n        # create a temp view\n        if type(__backend_agg_dfs[0]).__module__ == \"databricks.koalas.frame\":\n            # koalas dataframe\n            __backend_agg_dfs[0].to_spark().createOrReplaceTempView(\"DatabricksView4849680\")\n        elif type(__backend_agg_dfs[0]).__module__ == \"pandas.core.frame\" or isinstance(__backend_agg_dfs[0], list):\n            # pandas dataframe\n            spark.createDataFrame(__backend_agg_dfs[0]).createOrReplaceTempView(\"DatabricksView4849680\")\n        else:\n            __backend_agg_dfs[0].createOrReplaceTempView(\"DatabricksView4849680\")\n        #run backend agg\n        display(spark.sql(\"\"\"WITH q AS (select * from DatabricksView4849680) SELECT `BMI_Category`,SUM(`Percentage`) `column_a4e94a6457`,`BMI_Category` FROM q GROUP BY `BMI_Category`\"\"\"))\n    else:\n        displayHTML(\"dataframe no longer exists. If you're using dataframe.display(), use display(dataframe) instead.\")\n\n\nfinally:\n    spark.sql(\"drop view if exists DatabricksView4849680\")\n    display = __backend_agg_display_orig\n    del __backend_agg_display_new\n    del __backend_agg_display_orig\n    del __backend_agg_dfs\n    del __backend_agg_user_code_fn\n\n",
       "commandTitle": "Visualization 1",
       "commandType": "auto",
       "commandVersion": 0,
       "commentThread": [],
       "commentsVisible": false,
       "contentSha256Hex": null,
       "customPlotOptions": {
        "redashChart": [
         {
          "key": "type",
          "value": "CHART"
         },
         {
          "key": "options",
          "value": {
           "alignYAxesAtZero": false,
           "coefficient": 1,
           "columnConfigurationMap": {
            "series": {
             "column": "BMI_Category",
             "id": "column_a4e94a6455"
            },
            "x": {
             "column": "BMI_Category",
             "id": "column_a4e94a6458"
            },
            "y": [
             {
              "column": "Percentage",
              "id": "column_a4e94a6457",
              "transform": "SUM"
             }
            ]
           },
           "dateTimeFormat": "DD/MM/YYYY HH:mm",
           "direction": {
            "type": "counterclockwise"
           },
           "error_y": {
            "type": "data",
            "visible": true
           },
           "globalSeriesType": "column",
           "hideXAxis": false,
           "hideYAxes": false,
           "isAggregationOn": true,
           "legend": {
            "enabled": true,
            "placement": "below",
            "traceorder": "normal"
           },
           "missingValuesAsZero": true,
           "numberFormat": "0,0.[00000]",
           "percentFormat": "0[.]00%",
           "reverseX": false,
           "series": {
            "error_y": {
             "type": "data",
             "visible": true
            },
            "percentValues": false,
            "stacking": "stack"
           },
           "seriesOptions": {
            "BMI_Category": {
             "type": "column",
             "yAxis": 0
            },
            "Nadwaga": {
             "color": "#FBBC05",
             "yAxis": 0,
             "zIndex": 1
            },
            "Niedowaga": {
             "color": "#17BF51",
             "yAxis": 0,
             "zIndex": 3
            },
            "Otyłość I stopnia": {
             "color": "#FF9800",
             "zIndex": 2
            },
            "Otyłość II stopnia": {
             "color": "#FF5722",
             "zIndex": 4
            },
            "Otyłość III stopnia": {
             "color": "#D32F2F",
             "zIndex": 5
            },
            "Percentage": {
             "type": "column",
             "yAxis": 0
            },
            "Waga prawidłowa": {
             "color": "#34A853",
             "yAxis": 0,
             "zIndex": 0
            },
            "column_a4e94a6454": {
             "name": "Percentage",
             "type": "column",
             "yAxis": 0
            },
            "column_a4e94a6457": {
             "type": "column",
             "yAxis": 0
            },
            "column_a4e94a6468": {
             "type": "column",
             "yAxis": 0
            }
           },
           "showDataLabels": false,
           "sizemode": "diameter",
           "sortX": false,
           "sortY": true,
           "swappedAxes": false,
           "textFormat": "",
           "useAggregationsUi": true,
           "valuesOptions": {},
           "version": 2,
           "xAxis": {
            "labels": {
             "enabled": true
            },
            "type": "-"
           },
           "yAxis": [
            {
             "rangeMin": 0,
             "title": {
              "text": "Percentage"
             },
             "type": "-"
            },
            {
             "opposite": true,
             "type": "-"
            }
           ]
          }
         }
        ]
       },
       "datasetPreviewNameToCmdIdMap": {},
       "diffDeletes": [],
       "diffInserts": [],
       "displayType": "redashChart",
       "error": null,
       "errorDetails": null,
       "errorSummary": null,
       "errorTraceType": null,
       "finishTime": 0,
       "globalVars": {},
       "guid": "",
       "height": "auto",
       "hideCommandCode": false,
       "hideCommandResult": false,
       "iPythonMetadata": null,
       "inputWidgets": {},
       "isLockedInExamMode": false,
       "latestUser": "a user",
       "latestUserId": null,
       "listResultMetadata": null,
       "metadata": {
        "byteLimit": 2048000,
        "rowLimit": 10000
       },
       "nuid": "a33c9c70-5a2e-44fd-9e93-7c9bf5866cc4",
       "origId": 0,
       "parentHierarchy": [],
       "pivotAggregation": null,
       "pivotColumns": null,
       "position": 13,
       "resultDbfsErrorMessage": null,
       "resultDbfsStatus": "INLINED_IN_TREE",
       "results": null,
       "showCommandTitle": false,
       "startTime": 0,
       "state": "finished",
       "streamStates": {},
       "subcommandOptions": {
        "queryPlan": {
         "groups": [
          {
           "column": "BMI_Category",
           "type": "column"
          },
          {
           "column": "BMI_Category",
           "type": "column"
          }
         ],
         "selects": [
          {
           "column": "BMI_Category",
           "type": "column"
          },
          {
           "alias": "column_a4e94a6457",
           "args": [
            {
             "column": "Percentage",
             "type": "column"
            }
           ],
           "function": "SUM",
           "type": "function"
          },
          {
           "column": "BMI_Category",
           "type": "column"
          }
         ]
        }
       },
       "submitTime": 0,
       "subtype": "tableResultSubCmd.visualization",
       "tableResultIndex": 0,
       "tableResultSettingsMap": {},
       "useConsistentColors": false,
       "version": "CommandV1",
       "width": "auto",
       "workflows": [],
       "xColumns": null,
       "yColumns": null
      }
     },
     "output_type": "display_data"
    }
   ],
   "source": [
    "heart_disease_df = df.filter(col(\"HeartDisease\") == \"Yes\")\n",
    "\n",
    "\n",
    "heart_disease_df = heart_disease_df.withColumn(\n",
    "    \"BMI_Category\",\n",
    "    when(col(\"BMI\") < 18.5, \"Niedowaga\")\n",
    "    .when((col(\"BMI\") >= 18.5) & (col(\"BMI\") < 25), \"Waga prawidłowa\")\n",
    "    .when((col(\"BMI\") >= 25) & (col(\"BMI\") < 30), \"Nadwaga\")\n",
    "    .when((col(\"BMI\") >= 30) & (col(\"BMI\") < 35), \"Otyłość I stopnia\")\n",
    "    .when((col(\"BMI\") >= 35) & (col(\"BMI\") < 40), \"Otyłość II stopnia\")\n",
    "    .otherwise(\"Otyłość III stopnia\"))\n",
    "\n",
    "\n",
    "bmi_distribution = heart_disease_df.groupBy(\"BMI_Category\").agg(count(\"*\").alias(\"Count\"))\n",
    "\n",
    "\n",
    "total_count = heart_disease_df.count()\n",
    "bmi_distribution = bmi_distribution.withColumn(\"Percentage\", round((col(\"Count\") / total_count) * 100, 2))\n",
    "\n",
    "\n",
    "bmi_distribution = bmi_distribution.withColumn(\n",
    "    \"BMI_Order\",\n",
    "    when(col(\"BMI_Category\") == \"Niedowaga\", 1)\n",
    "    .when(col(\"BMI_Category\") == \"Waga prawidłowa\", 2)\n",
    "    .when(col(\"BMI_Category\") == \"Nadwaga\", 3)\n",
    "    .when(col(\"BMI_Category\") == \"Otyłość I stopnia\", 4)\n",
    "    .when(col(\"BMI_Category\") == \"Otyłość II stopnia\", 5)\n",
    "    .otherwise(6))  # Otyłość III stopnia)\n",
    "\n",
    "bmi_distribution = bmi_distribution.orderBy(\"BMI_Order\")\n",
    "\n",
    "\n",
    "display(bmi_distribution)"
   ]
  },
  {
   "cell_type": "markdown",
   "metadata": {
    "application/vnd.databricks.v1+cell": {
     "cellMetadata": {
      "byteLimit": 2048000,
      "rowLimit": 10000
     },
     "inputWidgets": {},
     "nuid": "a2c689a8-3e22-4167-b117-f06bf1d9c77a",
     "showTitle": false,
     "tableResultSettingsMap": {},
     "title": ""
    }
   },
   "source": [
    "##### Wnioski:\n",
    "- ##### Osoby z wagą prawidłową i niedowagą stanowią mały odsetek wśród chorych na serce, niecałe 25%\n",
    "- ##### Większość przypadków chorób serca dotyczy osób z nadwagą i otyłością, ponad 75%"
   ]
  },
  {
   "cell_type": "markdown",
   "metadata": {
    "application/vnd.databricks.v1+cell": {
     "cellMetadata": {
      "byteLimit": 2048000,
      "rowLimit": 10000
     },
     "inputWidgets": {},
     "nuid": "51553da8-1696-43ff-b8c8-ec5d49d07b11",
     "showTitle": false,
     "tableResultSettingsMap": {},
     "title": ""
    }
   },
   "source": []
  },
  {
   "cell_type": "markdown",
   "metadata": {
    "application/vnd.databricks.v1+cell": {
     "cellMetadata": {
      "byteLimit": 2048000,
      "rowLimit": 10000
     },
     "inputWidgets": {},
     "nuid": "ba746bde-af79-4baa-a5b6-637d99ed6c3f",
     "showTitle": false,
     "tableResultSettingsMap": {},
     "title": ""
    }
   },
   "source": [
    "#### 6) Wykres słupkowy: Procentowy podział liczby osób z chorobą serca na palących i niepalących"
   ]
  },
  {
   "cell_type": "code",
   "execution_count": null,
   "metadata": {
    "application/vnd.databricks.v1+cell": {
     "cellMetadata": {
      "byteLimit": 2048000,
      "rowLimit": 10000
     },
     "inputWidgets": {},
     "nuid": "d91e3074-7d0a-4b05-a53f-a95090c9e950",
     "showTitle": false,
     "tableResultSettingsMap": {},
     "title": ""
    }
   },
   "outputs": [
    {
     "data": {
      "text/html": [
       "<style scoped>\n",
       "  .table-result-container {\n",
       "    max-height: 300px;\n",
       "    overflow: auto;\n",
       "  }\n",
       "  table, th, td {\n",
       "    border: 1px solid black;\n",
       "    border-collapse: collapse;\n",
       "  }\n",
       "  th, td {\n",
       "    padding: 5px;\n",
       "  }\n",
       "  th {\n",
       "    text-align: left;\n",
       "  }\n",
       "</style><div class='table-result-container'><table class='table-result'><thead style='background-color: white'><tr><th>Smoking</th><th>Count</th><th>Percentage</th></tr></thead><tbody><tr><td>No</td><td>11334</td><td>41.41</td></tr><tr><td>Yes</td><td>16033</td><td>58.59</td></tr></tbody></table></div>"
      ]
     },
     "metadata": {
      "application/vnd.databricks.v1+output": {
       "addedWidgets": {},
       "aggData": [],
       "aggError": "",
       "aggOverflow": false,
       "aggSchema": [],
       "aggSeriesLimitReached": false,
       "aggType": "",
       "arguments": {},
       "columnCustomDisplayInfos": {},
       "data": [
        [
         "No",
         11334,
         41.41
        ],
        [
         "Yes",
         16033,
         58.59
        ]
       ],
       "datasetInfos": [],
       "dbfsResultPath": null,
       "isJsonSchema": true,
       "metadata": {},
       "overflow": false,
       "plotOptions": {
        "customPlotOptions": {},
        "displayType": "table",
        "pivotAggregation": null,
        "pivotColumns": null,
        "xColumns": null,
        "yColumns": null
       },
       "removedWidgets": [],
       "schema": [
        {
         "metadata": "{}",
         "name": "Smoking",
         "type": "\"string\""
        },
        {
         "metadata": "{}",
         "name": "Count",
         "type": "\"long\""
        },
        {
         "metadata": "{}",
         "name": "Percentage",
         "type": "\"double\""
        }
       ],
       "type": "table"
      }
     },
     "output_type": "display_data"
    },
    {
     "data": {
      "text/plain": [
       "Databricks visualization. Run in Databricks to view."
      ]
     },
     "metadata": {
      "application/vnd.databricks.v1.subcommand+json": {
       "baseErrorDetails": null,
       "bindings": {},
       "collapsed": false,
       "command": "%python\n__backend_agg_display_orig = display\n__backend_agg_dfs = []\ndef __backend_agg_display_new(df):\n    __backend_agg_df_modules = [\"pandas.core.frame\", \"databricks.koalas.frame\", \"pyspark.sql.dataframe\", \"pyspark.pandas.frame\", \"pyspark.sql.connect.dataframe\"]\n    if (type(df).__module__ in __backend_agg_df_modules and type(df).__name__ == 'DataFrame') or isinstance(df, list):\n        __backend_agg_dfs.append(df)\n\ndisplay = __backend_agg_display_new\n\ndef __backend_agg_user_code_fn():\n    import base64\n    exec(base64.standard_b64decode(\"aGVhcnRfZGlzZWFzZV9kZiA9IGRmLmZpbHRlcihjb2woIkhlYXJ0RGlzZWFzZSIpID09ICJZZXMiKQoKc21va2luZ19kaXN0cmlidXRpb24gPSBoZWFydF9kaXNlYXNlX2RmLmdyb3VwQnkoIlNtb2tpbmciKS5hZ2coY291bnQoIioiKS5hbGlhcygiQ291bnQiKSkKCgp0b3RhbF9jb3VudCA9IGhlYXJ0X2Rpc2Vhc2VfZGYuY291bnQoKQpzbW9raW5nX2Rpc3RyaWJ1dGlvbiA9IHNtb2tpbmdfZGlzdHJpYnV0aW9uLndpdGhDb2x1bW4oCiAgICAiUGVyY2VudGFnZSIsIHJvdW5kKChjb2woIkNvdW50IikgLyB0b3RhbF9jb3VudCkgKiAxMDAsIDIpKQoKCmRpc3BsYXkoc21va2luZ19kaXN0cmlidXRpb24p\").decode())\n\ntry:\n    # run user code\n    __backend_agg_user_code_fn()\n\n    #reset display function\n    display = __backend_agg_display_orig\n\n    if len(__backend_agg_dfs) > 0:\n        # create a temp view\n        if type(__backend_agg_dfs[0]).__module__ == \"databricks.koalas.frame\":\n            # koalas dataframe\n            __backend_agg_dfs[0].to_spark().createOrReplaceTempView(\"DatabricksView51dd507\")\n        elif type(__backend_agg_dfs[0]).__module__ == \"pandas.core.frame\" or isinstance(__backend_agg_dfs[0], list):\n            # pandas dataframe\n            spark.createDataFrame(__backend_agg_dfs[0]).createOrReplaceTempView(\"DatabricksView51dd507\")\n        else:\n            __backend_agg_dfs[0].createOrReplaceTempView(\"DatabricksView51dd507\")\n        #run backend agg\n        display(spark.sql(\"\"\"WITH q AS (select * from DatabricksView51dd507) SELECT `Smoking`,SUM(`Percentage`) `column_a4e94a64152`,`Smoking` FROM q GROUP BY `Smoking`\"\"\"))\n    else:\n        displayHTML(\"dataframe no longer exists. If you're using dataframe.display(), use display(dataframe) instead.\")\n\n\nfinally:\n    spark.sql(\"drop view if exists DatabricksView51dd507\")\n    display = __backend_agg_display_orig\n    del __backend_agg_display_new\n    del __backend_agg_display_orig\n    del __backend_agg_dfs\n    del __backend_agg_user_code_fn\n\n",
       "commandTitle": "Visualization 1",
       "commandType": "auto",
       "commandVersion": 0,
       "commentThread": [],
       "commentsVisible": false,
       "contentSha256Hex": null,
       "customPlotOptions": {
        "redashChart": [
         {
          "key": "type",
          "value": "CHART"
         },
         {
          "key": "options",
          "value": {
           "alignYAxesAtZero": true,
           "coefficient": 1,
           "columnConfigurationMap": {
            "series": {
             "column": "Smoking",
             "id": "column_a4e94a64166"
            },
            "x": {
             "column": "Smoking",
             "id": "column_a4e94a64161"
            },
            "y": [
             {
              "column": "Percentage",
              "id": "column_a4e94a64152",
              "transform": "SUM"
             }
            ]
           },
           "dateTimeFormat": "DD/MM/YYYY HH:mm",
           "direction": {
            "type": "counterclockwise"
           },
           "error_y": {
            "type": "data",
            "visible": true
           },
           "globalSeriesType": "column",
           "isAggregationOn": true,
           "legend": {
            "traceorder": "normal"
           },
           "missingValuesAsZero": false,
           "numberFormat": "0,0.[00000]%",
           "percentFormat": "0[.]00%",
           "series": {
            "error_y": {
             "type": "data",
             "visible": true
            },
            "percentValues": false,
            "stacking": "stack"
           },
           "seriesOptions": {
            "No": {
             "color": "#17BF51",
             "yAxis": 0
            },
            "column_a4e94a64152": {
             "color": "#E92828",
             "name": "Percentage",
             "type": "column",
             "yAxis": 0
            }
           },
           "showDataLabels": false,
           "sizemode": "diameter",
           "sortX": true,
           "sortY": true,
           "swappedAxes": false,
           "textFormat": "",
           "useAggregationsUi": true,
           "valuesOptions": {},
           "version": 2,
           "xAxis": {
            "labels": {
             "enabled": true
            },
            "title": {
             "text": "Smoking (no/yes)"
            },
            "type": "-"
           },
           "yAxis": [
            {
             "title": {
              "text": "Percentage"
             },
             "type": "-"
            },
            {
             "opposite": true,
             "type": "-"
            }
           ]
          }
         }
        ]
       },
       "datasetPreviewNameToCmdIdMap": {},
       "diffDeletes": [],
       "diffInserts": [],
       "displayType": "redashChart",
       "error": null,
       "errorDetails": null,
       "errorSummary": null,
       "errorTraceType": null,
       "finishTime": 0,
       "globalVars": {},
       "guid": "",
       "height": "auto",
       "hideCommandCode": false,
       "hideCommandResult": false,
       "iPythonMetadata": null,
       "inputWidgets": {},
       "isLockedInExamMode": false,
       "latestUser": "a user",
       "latestUserId": null,
       "listResultMetadata": null,
       "metadata": {
        "byteLimit": 2048000,
        "rowLimit": 10000
       },
       "nuid": "455d8f01-ac4b-43d4-9eaf-972967c92674",
       "origId": 0,
       "parentHierarchy": [],
       "pivotAggregation": null,
       "pivotColumns": null,
       "position": 14.25,
       "resultDbfsErrorMessage": null,
       "resultDbfsStatus": "INLINED_IN_TREE",
       "results": null,
       "showCommandTitle": false,
       "startTime": 0,
       "state": "finished",
       "streamStates": {},
       "subcommandOptions": {
        "queryPlan": {
         "groups": [
          {
           "column": "Smoking",
           "type": "column"
          },
          {
           "column": "Smoking",
           "type": "column"
          }
         ],
         "selects": [
          {
           "column": "Smoking",
           "type": "column"
          },
          {
           "alias": "column_a4e94a64152",
           "args": [
            {
             "column": "Percentage",
             "type": "column"
            }
           ],
           "function": "SUM",
           "type": "function"
          },
          {
           "column": "Smoking",
           "type": "column"
          }
         ]
        }
       },
       "submitTime": 0,
       "subtype": "tableResultSubCmd.visualization",
       "tableResultIndex": 0,
       "tableResultSettingsMap": {},
       "useConsistentColors": false,
       "version": "CommandV1",
       "width": "auto",
       "workflows": [],
       "xColumns": null,
       "yColumns": null
      }
     },
     "output_type": "display_data"
    }
   ],
   "source": [
    "heart_disease_df = df.filter(col(\"HeartDisease\") == \"Yes\")\n",
    "\n",
    "smoking_distribution = heart_disease_df.groupBy(\"Smoking\").agg(count(\"*\").alias(\"Count\"))\n",
    "\n",
    "\n",
    "total_count = heart_disease_df.count()\n",
    "smoking_distribution = smoking_distribution.withColumn(\n",
    "    \"Percentage\", round((col(\"Count\") / total_count) * 100, 2))\n",
    "\n",
    "\n",
    "display(smoking_distribution)"
   ]
  },
  {
   "cell_type": "markdown",
   "metadata": {
    "application/vnd.databricks.v1+cell": {
     "cellMetadata": {
      "byteLimit": 2048000,
      "rowLimit": 10000
     },
     "inputWidgets": {},
     "nuid": "f88a637a-392f-4150-987a-b69679205fc8",
     "showTitle": false,
     "tableResultSettingsMap": {},
     "title": ""
    }
   },
   "source": [
    "##### Wnioski:\n",
    "- ##### Palacze stanowią większość wśród osób z chorobą serca, ponad 58.5% co wskazuje na powiązanie pomiędzy występowaniem chorób serca a aktywnym paleniem papierosów.\n",
    "- ##### Osoby niepalące również chorują na serce ale w miejszym stopniu, poniżej 41.5%"
   ]
  },
  {
   "cell_type": "markdown",
   "metadata": {
    "application/vnd.databricks.v1+cell": {
     "cellMetadata": {
      "byteLimit": 2048000,
      "rowLimit": 10000
     },
     "inputWidgets": {},
     "nuid": "b33822c4-37c9-400b-8811-c1bcf655a551",
     "showTitle": false,
     "tableResultSettingsMap": {},
     "title": ""
    }
   },
   "source": []
  },
  {
   "cell_type": "markdown",
   "metadata": {
    "application/vnd.databricks.v1+cell": {
     "cellMetadata": {
      "byteLimit": 2048000,
      "rowLimit": 10000
     },
     "inputWidgets": {},
     "nuid": "e758b569-fc27-419f-8ff5-3ac81e2865b1",
     "showTitle": false,
     "tableResultSettingsMap": {},
     "title": ""
    }
   },
   "source": [
    "## Podsumowanie i wnioski"
   ]
  },
  {
   "cell_type": "markdown",
   "metadata": {
    "application/vnd.databricks.v1+cell": {
     "cellMetadata": {
      "byteLimit": 2048000,
      "rowLimit": 10000
     },
     "inputWidgets": {},
     "nuid": "c4a8bf25-a848-4e6b-ad8b-dd4494a7f956",
     "showTitle": false,
     "tableResultSettingsMap": {},
     "title": ""
    }
   },
   "source": [
    "#### Styl życia odgrywa kluczową rolę w prewencji potencjalnych chorób serca. Ograniczenie palenia, regularna aktywność fizyczna oraz utrzymanie prawidłowej masy ciała mogą znacząco zmniejszyć ryzyko tych schorzeń. Wraz z rosnącym wiekiem organizm staje się bardziej podatny na choroby serca, dlatego profilaktyka staje się kluczowa.\n",
    "#### Osoby z nadwagą i otyłością stanowią ponad 75% chorych na serce, co wskazuje na silny związek między BMI a ryzykiem wystąpienia choroby sercowo-naczyniowej. Palenie również okazuje się istotnym czynnikiem ryzyka, ponieważ palacze dominują wśród chorych (ponad 58%), podkreślając negatywny wpływ tego nawyku na serce.\n",
    "#### Dodatkowo, mężczyźni częściej chorują na serce niż kobiety, mimo że rozkład płci w całej populacji jest zbliżony. Ryzyko wzrasta wraz z wiekiem, co wskazuje na potrzebę częstszych badań profilaktycznych, szczególnie u osób starszych.\n",
    "#### Podsumowując, utrzymanie prawidłowej masy ciała, unikanie palenia oraz regularna aktywność fizyczna to kluczowe elementy, które mogą znacząco zmniejszyć ryzyko chorób serca i poprawić jakość życia.\n"
   ]
  }
 ],
 "metadata": {
  "application/vnd.databricks.v1+notebook": {
   "computePreferences": null,
   "dashboards": [],
   "environmentMetadata": {
    "base_environment": "",
    "environment_version": "1"
   },
   "inputWidgetPreferences": null,
   "language": "python",
   "notebookMetadata": {
    "mostRecentlyExecutedCommandWithImplicitDF": {
     "commandId": 1338049572057887,
     "dataframes": [
      "_sqldf"
     ]
    },
    "pythonIndentUnit": 4
   },
   "notebookName": "140251_Szott_Hubert_BigData_projekt",
   "widgets": {}
  },
  "kernelspec": {
   "display_name": "Python 3 (ipykernel)",
   "language": "python",
   "name": "python3"
  },
  "language_info": {
   "codemirror_mode": {
    "name": "ipython",
    "version": 3
   },
   "file_extension": ".py",
   "mimetype": "text/x-python",
   "name": "python",
   "nbconvert_exporter": "python",
   "pygments_lexer": "ipython3",
   "version": "3.12.7"
  }
 },
 "nbformat": 4,
 "nbformat_minor": 4
}
